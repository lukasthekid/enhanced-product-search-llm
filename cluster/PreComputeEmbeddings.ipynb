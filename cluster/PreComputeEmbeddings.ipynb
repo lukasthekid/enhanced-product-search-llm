{
 "cells": [
  {
   "cell_type": "markdown",
   "id": "cc7bcdaa-f1d9-4355-ac04-d80d41c41d93",
   "metadata": {},
   "source": [
    "# Test Out Sentence Encoders from Huggingface"
   ]
  },
  {
   "cell_type": "code",
   "execution_count": 1,
   "id": "bdb148a0-2cbd-41a4-8ed0-99ea30ac5f58",
   "metadata": {
    "tags": []
   },
   "outputs": [],
   "source": [
    "# Load model directly\n",
    "import torch\n",
    "import pandas as pd\n",
    "from transformers import AutoTokenizer, AutoModelForCausalLM\n",
    "from sklearn.metrics.pairwise import cosine_similarity\n",
    "from sklearn.metrics import pairwise_distances\n",
    "from sentence_transformers import SentenceTransformer\n",
    "import gc\n",
    "device = \"cuda\"\n"
   ]
  },
  {
   "cell_type": "code",
   "execution_count": 2,
   "id": "b30db9ba-e420-4fdd-b0e4-9bec60e1a09f",
   "metadata": {
    "tags": []
   },
   "outputs": [],
   "source": [
    "#%pip install sentence-transformers flash_attn"
   ]
  },
  {
   "cell_type": "code",
   "execution_count": 3,
   "id": "1b388a58-5af8-42a8-9941-eb5caf852cd6",
   "metadata": {
    "tags": []
   },
   "outputs": [
    {
     "name": "stdout",
     "output_type": "stream",
     "text": [
      "(980974, 4)\n"
     ]
    },
    {
     "data": {
      "text/html": [
       "<div>\n",
       "<style scoped>\n",
       "    .dataframe tbody tr th:only-of-type {\n",
       "        vertical-align: middle;\n",
       "    }\n",
       "\n",
       "    .dataframe tbody tr th {\n",
       "        vertical-align: top;\n",
       "    }\n",
       "\n",
       "    .dataframe thead th {\n",
       "        text-align: right;\n",
       "    }\n",
       "</style>\n",
       "<table border=\"1\" class=\"dataframe\">\n",
       "  <thead>\n",
       "    <tr style=\"text-align: right;\">\n",
       "      <th></th>\n",
       "      <th>id</th>\n",
       "      <th>title</th>\n",
       "      <th>description</th>\n",
       "      <th>product_text</th>\n",
       "    </tr>\n",
       "  </thead>\n",
       "  <tbody>\n",
       "    <tr>\n",
       "      <th>0</th>\n",
       "      <td>1</td>\n",
       "      <td>FYY Leather Case with Mirror for Samsung Galax...</td>\n",
       "      <td>Premium PU Leather Top quality. Made with Pre...</td>\n",
       "      <td>FYY Leather Case with Mirror for Samsung Galax...</td>\n",
       "    </tr>\n",
       "    <tr>\n",
       "      <th>1</th>\n",
       "      <td>2</td>\n",
       "      <td>Playtex Women's 18 Hour Easy On, Easy Off Fron...</td>\n",
       "      <td>Introducing Playtex 18 hour front &amp; back clos...</td>\n",
       "      <td>Playtex Women's 18 Hour Easy On, Easy Off Fron...</td>\n",
       "    </tr>\n",
       "  </tbody>\n",
       "</table>\n",
       "</div>"
      ],
      "text/plain": [
       "   id                                              title  \\\n",
       "0   1  FYY Leather Case with Mirror for Samsung Galax...   \n",
       "1   2  Playtex Women's 18 Hour Easy On, Easy Off Fron...   \n",
       "\n",
       "                                         description  \\\n",
       "0   Premium PU Leather Top quality. Made with Pre...   \n",
       "1   Introducing Playtex 18 hour front & back clos...   \n",
       "\n",
       "                                        product_text  \n",
       "0  FYY Leather Case with Mirror for Samsung Galax...  \n",
       "1  Playtex Women's 18 Hour Easy On, Easy Off Fron...  "
      ]
     },
     "execution_count": 3,
     "metadata": {},
     "output_type": "execute_result"
    }
   ],
   "source": [
    "collection = pd.read_csv('p_collection.tsv', sep='\\t')\n",
    "print(collection.shape)\n",
    "collection.head(2)"
   ]
  },
  {
   "cell_type": "code",
   "execution_count": 4,
   "id": "81363e49-d3dc-4074-945d-1b1b3a79a996",
   "metadata": {
    "tags": []
   },
   "outputs": [
    {
     "name": "stdout",
     "output_type": "stream",
     "text": [
      "Twinkle Star Heavy-Duty Brass Adjustable Twist Hose Nozzle, 2 Pack, TWIS3432  Adjustable Hose Nozzle Shut Off Valve Shut Off Valve Adjustable Twist Hose Nozzle Jet Sweeper Jet Nozzle Garden Hose Quick Connect Set Screw Threads 3/4\" 3/4\" 3/4\" 3/4\" 3/4\" 3/4\" Material Brass Brass Brass Brass Brass Aluminum Package Includes 1 Pack 2 Pack 1 Pack 2 Pack 2 Pack 4 Pack Garden Hose Quick Connect Set Hose Caps Female Swivel Connectors Double Male Quick Connector 2 Way Brass Garden Hose Splitter 4 Way Brass Garden Hose Splitter Screw Threads 3/4\" 3/4\" 3/4\" 3/4\" 3/4\" 3/4\" Material Brass Brass Brass Brass Brass Brass Package Includes 4 Sets 4 Sets 2 Sets 2 Sets 1 Pack 1 Pack Specifications: Body Material: Brass Package Includes: 2 x 3/4 Adjustable jet Twinkle Star Adjustable Twist Hose Nozzle With 4 holes at the tip for maximum pressure & water flow. O-ring seals create a watertight connection to prevent leaks. Adjustable from turning water off to fine mist to shower jet to powerful pressure jet stream. Great for garden watering, car washing, cleaning driveway, deck, gutters and more. Notes: 1. Please choose the correct hose size. 2. To prevent leakage, make sure the jet has rubber ring. 3. If water leaks after a long period of use, please replace with a new washer.  Adjustable jet rotates from a light stream to powerful stream. Heavy duty brass 3/4”female thread. Solid brass integral inner core, anti - damage, anti - rust, anti - leakage, durable.  \n"
     ]
    },
    {
     "data": {
      "text/html": [
       "<div>\n",
       "<style scoped>\n",
       "    .dataframe tbody tr th:only-of-type {\n",
       "        vertical-align: middle;\n",
       "    }\n",
       "\n",
       "    .dataframe tbody tr th {\n",
       "        vertical-align: top;\n",
       "    }\n",
       "\n",
       "    .dataframe thead th {\n",
       "        text-align: right;\n",
       "    }\n",
       "</style>\n",
       "<table border=\"1\" class=\"dataframe\">\n",
       "  <thead>\n",
       "    <tr style=\"text-align: right;\">\n",
       "      <th></th>\n",
       "      <th>id</th>\n",
       "      <th>title</th>\n",
       "      <th>description</th>\n",
       "      <th>product_text</th>\n",
       "    </tr>\n",
       "  </thead>\n",
       "  <tbody>\n",
       "    <tr>\n",
       "      <th>0</th>\n",
       "      <td>49155</td>\n",
       "      <td>Super Z Outlet Acrylic Color Faux Round Diamon...</td>\n",
       "      <td>Super Z Outlet is here to make all of life's ...</td>\n",
       "      <td>Super Z Outlet Acrylic Color Faux Round Diamon...</td>\n",
       "    </tr>\n",
       "    <tr>\n",
       "      <th>1</th>\n",
       "      <td>124718</td>\n",
       "      <td>Warriors: Power of Three Box Set: Volumes 1 to 6</td>\n",
       "      <td>NaN</td>\n",
       "      <td>Warriors: Power of Three Box Set: Volumes 1 to 6</td>\n",
       "    </tr>\n",
       "    <tr>\n",
       "      <th>2</th>\n",
       "      <td>176286</td>\n",
       "      <td>Allstarco 25x18mm Flat Back Teardrop Acrylic R...</td>\n",
       "      <td>High Quality Teardrop Jewels 25x18mm or 1\" x ...</td>\n",
       "      <td>Allstarco 25x18mm Flat Back Teardrop Acrylic R...</td>\n",
       "    </tr>\n",
       "    <tr>\n",
       "      <th>3</th>\n",
       "      <td>225325</td>\n",
       "      <td>Dragon's Thief (Searching Dragons Book 1)</td>\n",
       "      <td>NaN</td>\n",
       "      <td>Dragon's Thief (Searching Dragons Book 1)</td>\n",
       "    </tr>\n",
       "    <tr>\n",
       "      <th>4</th>\n",
       "      <td>315168</td>\n",
       "      <td>Twinkle Star Heavy Duty Brass Shut Off Valve G...</td>\n",
       "      <td>Shut Off Valve Adjustable Hose Nozzle Adjusta...</td>\n",
       "      <td>Twinkle Star Heavy Duty Brass Shut Off Valve G...</td>\n",
       "    </tr>\n",
       "    <tr>\n",
       "      <th>5</th>\n",
       "      <td>324311</td>\n",
       "      <td>Warriors: A Vision of Shadows Box Set: Volumes...</td>\n",
       "      <td>NaN</td>\n",
       "      <td>Warriors: A Vision of Shadows Box Set: Volumes...</td>\n",
       "    </tr>\n",
       "    <tr>\n",
       "      <th>6</th>\n",
       "      <td>354202</td>\n",
       "      <td>Twinkle Star Heavy-Duty Brass Adjustable Twist...</td>\n",
       "      <td>Adjustable Hose Nozzle Shut Off Valve Shut Of...</td>\n",
       "      <td>Twinkle Star Heavy-Duty Brass Adjustable Twist...</td>\n",
       "    </tr>\n",
       "    <tr>\n",
       "      <th>7</th>\n",
       "      <td>515145</td>\n",
       "      <td>PHOGARY Self-Adhesive Rhinestone Sticker 3375 ...</td>\n",
       "      <td>Specifications - Color: 15 Colors - Size: 2, ...</td>\n",
       "      <td>PHOGARY Self-Adhesive Rhinestone Sticker 3375 ...</td>\n",
       "    </tr>\n",
       "    <tr>\n",
       "      <th>8</th>\n",
       "      <td>775542</td>\n",
       "      <td>Selizo 3168pcs Rhinestones Nail Crystals Rhine...</td>\n",
       "      <td>Selizo rhinestones kit come with 3168pcs asso...</td>\n",
       "      <td>Selizo 3168pcs Rhinestones Nail Crystals Rhine...</td>\n",
       "    </tr>\n",
       "    <tr>\n",
       "      <th>9</th>\n",
       "      <td>944726</td>\n",
       "      <td>Outuxed Hotfix Rhinestones 5400pcs Flatback Ge...</td>\n",
       "      <td>Product Information Various Styles: 12 color...</td>\n",
       "      <td>Outuxed Hotfix Rhinestones 5400pcs Flatback Ge...</td>\n",
       "    </tr>\n",
       "  </tbody>\n",
       "</table>\n",
       "</div>"
      ],
      "text/plain": [
       "       id                                              title  \\\n",
       "0   49155  Super Z Outlet Acrylic Color Faux Round Diamon...   \n",
       "1  124718   Warriors: Power of Three Box Set: Volumes 1 to 6   \n",
       "2  176286  Allstarco 25x18mm Flat Back Teardrop Acrylic R...   \n",
       "3  225325          Dragon's Thief (Searching Dragons Book 1)   \n",
       "4  315168  Twinkle Star Heavy Duty Brass Shut Off Valve G...   \n",
       "5  324311  Warriors: A Vision of Shadows Box Set: Volumes...   \n",
       "6  354202  Twinkle Star Heavy-Duty Brass Adjustable Twist...   \n",
       "7  515145  PHOGARY Self-Adhesive Rhinestone Sticker 3375 ...   \n",
       "8  775542  Selizo 3168pcs Rhinestones Nail Crystals Rhine...   \n",
       "9  944726  Outuxed Hotfix Rhinestones 5400pcs Flatback Ge...   \n",
       "\n",
       "                                         description  \\\n",
       "0   Super Z Outlet is here to make all of life's ...   \n",
       "1                                                NaN   \n",
       "2   High Quality Teardrop Jewels 25x18mm or 1\" x ...   \n",
       "3                                                NaN   \n",
       "4   Shut Off Valve Adjustable Hose Nozzle Adjusta...   \n",
       "5                                                NaN   \n",
       "6   Adjustable Hose Nozzle Shut Off Valve Shut Of...   \n",
       "7   Specifications - Color: 15 Colors - Size: 2, ...   \n",
       "8   Selizo rhinestones kit come with 3168pcs asso...   \n",
       "9    Product Information Various Styles: 12 color...   \n",
       "\n",
       "                                        product_text  \n",
       "0  Super Z Outlet Acrylic Color Faux Round Diamon...  \n",
       "1  Warriors: Power of Three Box Set: Volumes 1 to 6   \n",
       "2  Allstarco 25x18mm Flat Back Teardrop Acrylic R...  \n",
       "3         Dragon's Thief (Searching Dragons Book 1)   \n",
       "4  Twinkle Star Heavy Duty Brass Shut Off Valve G...  \n",
       "5  Warriors: A Vision of Shadows Box Set: Volumes...  \n",
       "6  Twinkle Star Heavy-Duty Brass Adjustable Twist...  \n",
       "7  PHOGARY Self-Adhesive Rhinestone Sticker 3375 ...  \n",
       "8  Selizo 3168pcs Rhinestones Nail Crystals Rhine...  \n",
       "9  Outuxed Hotfix Rhinestones 5400pcs Flatback Ge...  "
      ]
     },
     "execution_count": 4,
     "metadata": {},
     "output_type": "execute_result"
    }
   ],
   "source": [
    "test_set_ids =[176286, 49155, 775542, 515145, 944726, \n",
    "              225325, 124718, 324311, 354202, 315168]\n",
    "test_set = collection[collection['id'].isin(test_set_ids)].reset_index(drop=True)\n",
    "prod_pred = collection[collection['id'] == 354202]['product_text'].iloc[0]\n",
    "print(prod_pred)\n",
    "test_set.head(len(test_set_ids))"
   ]
  },
  {
   "cell_type": "markdown",
   "id": "77deaf2f-a6c0-429d-a993-56fb0edfe163",
   "metadata": {},
   "source": [
    "## Huggingface baseline\n",
    "\n",
    "https://huggingface.co/spaces/mteb/leaderboard\n",
    "\n",
    "We Test **Alibaba-NLP/gte-Qwen2-7B-instruct** and **Alibaba-NLP/gte-large-en-v1.5**"
   ]
  },
  {
   "cell_type": "code",
   "execution_count": 5,
   "id": "fbd0e587-14b0-4e42-8d6e-be74f835863a",
   "metadata": {
    "tags": []
   },
   "outputs": [],
   "source": [
    "import torch\n",
    "import torch.nn.functional as F\n",
    "\n",
    "from torch import Tensor\n",
    "from transformers import AutoTokenizer, AutoModel\n",
    "\n",
    "\n",
    "def last_token_pool(last_hidden_states: Tensor,\n",
    "                 attention_mask: Tensor) -> Tensor:\n",
    "    left_padding = (attention_mask[:, -1].sum() == attention_mask.shape[0])\n",
    "    if left_padding:\n",
    "        return last_hidden_states[:, -1]\n",
    "    else:\n",
    "        sequence_lengths = attention_mask.sum(dim=1) - 1\n",
    "        batch_size = last_hidden_states.shape[0]\n",
    "        return last_hidden_states[torch.arange(batch_size, device=last_hidden_states.device), sequence_lengths]\n",
    "\n",
    "\n",
    "def get_detailed_instruct(task_description: str, query: str) -> str:\n",
    "    return f'Instruct: {task_description}\\nQuery: {query}'\n",
    "\n",
    "\n",
    "# Each query must come with a one-sentence instruction that describes the task\n",
    "task = 'Given a web search query, retrieve relevant passages that answer the query'\n",
    "queries = [\n",
    "    get_detailed_instruct(task, 'Lovelyshop Blue Gems Rhinestone')\n",
    "]\n",
    "# No need to add instruction for retrieval documents\n",
    "documents = list(test_set['product_text'].values)\n",
    "\n",
    "input_texts = queries + documents\n"
   ]
  },
  {
   "cell_type": "code",
   "execution_count": 6,
   "id": "07744360-0b87-46c6-aaa0-89b3c7be3528",
   "metadata": {},
   "outputs": [
    {
     "data": {
      "application/vnd.jupyter.widget-view+json": {
       "model_id": "7722d173c71943ab9b5540633074e44e",
       "version_major": 2,
       "version_minor": 0
      },
      "text/plain": [
       "Loading checkpoint shards:   0%|          | 0/7 [00:00<?, ?it/s]"
      ]
     },
     "metadata": {},
     "output_type": "display_data"
    },
    {
     "name": "stdout",
     "output_type": "stream",
     "text": [
      "torch.Size([1, 3584])\n",
      "scores [[54.58762741088867, 14.899150848388672, 62.25755310058594, 19.48267364501953, 20.561365127563477, 14.006187438964844, 20.07859230041504, 50.83382034301758, 52.75143814086914, 55.326622009277344]]\n",
      "distances [0.9530207514762878, 1.304613471031189, 0.8688209652900696, 1.2689954042434692, 1.2604657411575317, 1.3114405870437622, 1.264290452003479, 0.9916280508041382, 0.9720964431762695, 0.9452337026596069]\n"
     ]
    }
   ],
   "source": [
    "#size of the Model is 28.36 GB\n",
    "tokenizer = AutoTokenizer.from_pretrained('Alibaba-NLP/gte-Qwen2-7B-instruct', trust_remote_code=True)\n",
    "model = AutoModel.from_pretrained('Alibaba-NLP/gte-Qwen2-7B-instruct', trust_remote_code=True)\n",
    "\n",
    "max_length = 512\n",
    "\n",
    "# Tokenize the input texts\n",
    "batch_dict = tokenizer(input_texts, max_length=max_length, padding=True, truncation=True, return_tensors='pt')\n",
    "outputs = model(**batch_dict)\n",
    "embeddings = last_token_pool(outputs.last_hidden_state, batch_dict['attention_mask'])\n",
    "\n",
    "# normalize embeddings\n",
    "embeddings = F.normalize(embeddings, p=2, dim=1)\n",
    "scores = (embeddings[:1] @ embeddings[1:].T) * 100\n",
    "distances = F.pairwise_distance(embeddings[:1], embeddings[1:])\n",
    "\n",
    "print(embeddings[:1].shape)\n",
    "print(f'scores {scores.tolist()}')\n",
    "print(f'distances {distances.tolist()}')\n",
    "#0,2,8,7,9\n",
    "\n",
    "#5/5"
   ]
  },
  {
   "cell_type": "code",
   "execution_count": 6,
   "id": "20aadee5-6f01-4071-9eb0-b492a1a78082",
   "metadata": {
    "tags": []
   },
   "outputs": [
    {
     "name": "stdout",
     "output_type": "stream",
     "text": [
      "torch.Size([1, 1024])\n",
      "scores [[60.008941650390625, 44.08161544799805, 69.33821868896484, 29.402074813842773, 41.734127044677734, 41.39915084838867, 40.65492630004883, 65.6636962890625, 69.15235900878906, 74.34290313720703]]\n",
      "distances [0.8943272233009338, 1.057529091835022, 0.7830936312675476, 1.1882585287094116, 1.0794986486434937, 1.0825973749160767, 1.0894501209259033, 0.8286895751953125, 0.7854636311531067, 0.7163392305374146]\n"
     ]
    }
   ],
   "source": [
    "# Requires transformers>=4.36.0\n",
    "\n",
    "import torch.nn.functional as F\n",
    "from transformers import AutoModel, AutoTokenizer\n",
    "input_texts = ['Lovelyshop Blue Gems Rhinestone'] + documents\n",
    "\n",
    "model_path = 'Alibaba-NLP/gte-large-en-v1.5'\n",
    "tokenizer = AutoTokenizer.from_pretrained(model_path)\n",
    "model = AutoModel.from_pretrained(model_path, trust_remote_code=True)\n",
    "\n",
    "# Tokenize the input texts\n",
    "batch_dict = tokenizer(input_texts, max_length=512, padding=True, truncation=True, return_tensors='pt')\n",
    "\n",
    "outputs = model(**batch_dict)\n",
    "embeddings = outputs.last_hidden_state[:, 0]\n",
    " \n",
    "# (Optionally) normalize embeddings\n",
    "embeddings = F.normalize(embeddings, p=2, dim=1)\n",
    "scores = (embeddings[:1] @ embeddings[1:].T) * 100\n",
    "distances = F.pairwise_distance(embeddings[:1], embeddings[1:])\n",
    "\n",
    "print(embeddings[:1].shape)\n",
    "print(f'scores {scores.tolist()}')\n",
    "print(f'distances {distances.tolist()}')\n",
    "\n"
   ]
  },
  {
   "cell_type": "code",
   "execution_count": 2,
   "id": "0b74865a-0a7b-4002-9897-b2db2456ba16",
   "metadata": {
    "tags": []
   },
   "outputs": [
    {
     "name": "stdout",
     "output_type": "stream",
     "text": [
      "Free Up 0 bytes\n"
     ]
    },
    {
     "name": "stderr",
     "output_type": "stream",
     "text": [
      "/home/e11925939/.local/lib/python3.10/site-packages/xformers/ops/fmha/flash.py:211: FutureWarning: `torch.library.impl_abstract` was renamed to `torch.library.register_fake`. Please use that instead; we will remove `torch.library.impl_abstract` in a future version of PyTorch.\n",
      "  @torch.library.impl_abstract(\"xformers_flash::flash_fwd\")\n",
      "/home/e11925939/.local/lib/python3.10/site-packages/xformers/ops/fmha/flash.py:344: FutureWarning: `torch.library.impl_abstract` was renamed to `torch.library.register_fake`. Please use that instead; we will remove `torch.library.impl_abstract` in a future version of PyTorch.\n",
      "  @torch.library.impl_abstract(\"xformers_flash::flash_bwd\")\n"
     ]
    },
    {
     "ename": "NameError",
     "evalue": "name 'result' is not defined",
     "output_type": "error",
     "traceback": [
      "\u001b[0;31m---------------------------------------------------------------------------\u001b[0m",
      "\u001b[0;31mNameError\u001b[0m                                 Traceback (most recent call last)",
      "Cell \u001b[0;32mIn[2], line 6\u001b[0m\n\u001b[1;32m      4\u001b[0m output_file\u001b[38;5;241m=\u001b[39m\u001b[38;5;124m'\u001b[39m\u001b[38;5;124msynth_set/synthetic_positive_pairs.parquet.gzip\u001b[39m\u001b[38;5;124m'\u001b[39m\n\u001b[1;32m      5\u001b[0m df[\u001b[38;5;124m'\u001b[39m\u001b[38;5;124mquery_embedding\u001b[39m\u001b[38;5;124m'\u001b[39m] \u001b[38;5;241m=\u001b[39m sentence_transformer\u001b[38;5;241m.\u001b[39mencode(df[\u001b[38;5;124m'\u001b[39m\u001b[38;5;124mquery\u001b[39m\u001b[38;5;124m'\u001b[39m]\u001b[38;5;241m.\u001b[39mtolist())\u001b[38;5;241m.\u001b[39mtolist() \n\u001b[0;32m----> 6\u001b[0m \u001b[43mresult\u001b[49m\u001b[38;5;241m.\u001b[39mto_parquet(output_file, compression\u001b[38;5;241m=\u001b[39m\u001b[38;5;124m\"\u001b[39m\u001b[38;5;124mgzip\u001b[39m\u001b[38;5;124m\"\u001b[39m)\n\u001b[1;32m      7\u001b[0m \u001b[38;5;28mprint\u001b[39m(\u001b[38;5;124mf\u001b[39m\u001b[38;5;124m'\u001b[39m\u001b[38;5;124mfinished\u001b[39m\u001b[38;5;124m'\u001b[39m)\n",
      "\u001b[0;31mNameError\u001b[0m: name 'result' is not defined"
     ]
    }
   ],
   "source": [
    "print(f'Free Up {gc.collect()} bytes')\n",
    "df = pd.read_csv('synth_set/synthetic_positive_pairs.tsv', sep='\\t')\n",
    "sentence_transformer = SentenceTransformer('Alibaba-NLP/gte-large-en-v1.5', trust_remote_code=True)\n",
    "output_file='synth_set/synthetic_positive_pairs.parquet.gzip'\n",
    "df['query_embedding'] = sentence_transformer.encode(df['query'].tolist()).tolist() \n",
    "df.to_parquet(output_file, compression=\"gzip\")\n",
    "print(f'finished')"
   ]
  },
  {
   "cell_type": "code",
   "execution_count": 4,
   "id": "a2e9fe45-4dc7-487e-b436-647c31fd922c",
   "metadata": {
    "tags": []
   },
   "outputs": [],
   "source": [
    "df.to_parquet(output_file, compression=\"gzip\")"
   ]
  },
  {
   "cell_type": "markdown",
   "id": "6a0a1cb3-4706-4ccc-b52f-ba1eeeb08b74",
   "metadata": {},
   "source": [
    "We Vectorize our Text with the pretrained model and will build a Neural Network on top to finetune the embeddings for our Tasks"
   ]
  },
  {
   "cell_type": "code",
   "execution_count": 3,
   "id": "91feaaec-80e6-4f37-af03-edeb5e9dc253",
   "metadata": {
    "tags": []
   },
   "outputs": [
    {
     "name": "stdout",
     "output_type": "stream",
     "text": [
      "Free Up 0 bytes\n",
      "finished set 5 query encoding \n",
      "\n"
     ]
    }
   ],
   "source": [
    "collection_pkl = pd.read_pickle('p_collection.pkl')\n",
    "for p in range(5,6):\n",
    "    print(f'Free Up {gc.collect()} bytes')\n",
    "    df = pd.read_csv('synth_set/synthetic_query_product_'+str(p) +'.tsv', sep='\\t')\n",
    "\n",
    "    sentence_transformer = SentenceTransformer('Alibaba-NLP/gte-large-en-v1.5', trust_remote_code=True)\n",
    "    output_file='synth_set/synthetic_query_product_'+str(p) +'.parquet.gzip'\n",
    "\n",
    "    df['query_embedding'] = sentence_transformer.encode(df['query'].tolist()).tolist() \n",
    "    result = pd.merge(df, collection_pkl[['id', 'product_embedding']], how=\"left\", on='id')\n",
    "    result.to_parquet(output_file, compression=\"gzip\")\n",
    "    print(f'finished set {p} query encoding \\n')\n",
    "\n",
    "#result.head() "
   ]
  },
  {
   "cell_type": "code",
   "execution_count": null,
   "id": "ffa10054-92c4-4d08-8243-e161f051fd14",
   "metadata": {},
   "outputs": [],
   "source": [
    "result.to_parquet(output_file, compression=\"gzip\")\n",
    "print(f'finished set {part} query encoding \\n')"
   ]
  },
  {
   "cell_type": "code",
   "execution_count": null,
   "id": "1183db42-6e0d-4264-8a7e-339feed7619d",
   "metadata": {},
   "outputs": [],
   "source": [
    "collection['product_embedding'] = sentence_transformer.encode(df['product_text'].tolist()).tolist()\n",
    "collection.to_pickle('p_collection.pkl')"
   ]
  }
 ],
 "metadata": {
  "kernelspec": {
   "display_name": "Python 3 (ipykernel)",
   "language": "python",
   "name": "python3"
  },
  "language_info": {
   "codemirror_mode": {
    "name": "ipython",
    "version": 3
   },
   "file_extension": ".py",
   "mimetype": "text/x-python",
   "name": "python",
   "nbconvert_exporter": "python",
   "pygments_lexer": "ipython3",
   "version": "3.10.14"
  }
 },
 "nbformat": 4,
 "nbformat_minor": 5
}
