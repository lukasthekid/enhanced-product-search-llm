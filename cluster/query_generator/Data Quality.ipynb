{
 "cells": [
  {
   "cell_type": "code",
   "execution_count": 1,
   "id": "339e1152-698d-4957-901f-a8e0f852a824",
   "metadata": {
    "tags": []
   },
   "outputs": [],
   "source": [
    "import numpy as np\n",
    "import pandas as pd\n",
    "import pandas as pd\n",
    "from transformers import AutoTokenizer, AutoModel\n",
    "from sentence_transformers import SentenceTransformer\n",
    "import torch\n",
    "from sklearn.metrics.pairwise import cosine_similarity\n",
    "from sklearn.feature_extraction.text import TfidfVectorizer\n",
    "import matplotlib.pyplot as plt\n",
    "import seaborn as sns"
   ]
  },
  {
   "cell_type": "code",
   "execution_count": 2,
   "id": "ee11481b-db41-4981-bf7d-caf7d0727253",
   "metadata": {
    "tags": []
   },
   "outputs": [],
   "source": [
    "#%pip install seaborn"
   ]
  },
  {
   "cell_type": "markdown",
   "id": "7f4b8aa6-a1e8-4a5a-b3db-3a8c18aa0fed",
   "metadata": {},
   "source": [
    "# Data Quality Evaluation\n",
    "\n",
    "In this notebook we want to explore the synthetic positive pairs dataset"
   ]
  },
  {
   "cell_type": "code",
   "execution_count": 3,
   "id": "314eb786-7445-4de5-939b-1340b92e4707",
   "metadata": {
    "tags": []
   },
   "outputs": [],
   "source": [
    "df = pd.read_csv('../synth_set/synthetic_positive_pairs.tsv', sep='\\t')\n",
    "df.sample(n=100, random_state=119).to_csv('inspect_top100.tsv', sep='\\t')"
   ]
  },
  {
   "cell_type": "code",
   "execution_count": 4,
   "id": "83ec69b1-05ba-4647-a572-e847cd65f968",
   "metadata": {
    "tags": []
   },
   "outputs": [
    {
     "name": "stdout",
     "output_type": "stream",
     "text": [
      "NaN values in 'query': 1\n",
      "NaN values in 'document': 0\n"
     ]
    },
    {
     "data": {
      "text/html": [
       "<div>\n",
       "<style scoped>\n",
       "    .dataframe tbody tr th:only-of-type {\n",
       "        vertical-align: middle;\n",
       "    }\n",
       "\n",
       "    .dataframe tbody tr th {\n",
       "        vertical-align: top;\n",
       "    }\n",
       "\n",
       "    .dataframe thead th {\n",
       "        text-align: right;\n",
       "    }\n",
       "</style>\n",
       "<table border=\"1\" class=\"dataframe\">\n",
       "  <thead>\n",
       "    <tr style=\"text-align: right;\">\n",
       "      <th></th>\n",
       "      <th>query</th>\n",
       "      <th>product_text</th>\n",
       "      <th>relevance_label</th>\n",
       "      <th>id</th>\n",
       "    </tr>\n",
       "  </thead>\n",
       "  <tbody>\n",
       "    <tr>\n",
       "      <th>0</th>\n",
       "      <td>toddler 115mm polarized</td>\n",
       "      <td>INNOCHEER Party Sunglasses for Kids with UV400...</td>\n",
       "      <td>1</td>\n",
       "      <td>750355</td>\n",
       "    </tr>\n",
       "    <tr>\n",
       "      <th>1</th>\n",
       "      <td>plastic star favor</td>\n",
       "      <td>INNOCHEER Party Sunglasses for Kids with UV400...</td>\n",
       "      <td>1</td>\n",
       "      <td>750355</td>\n",
       "    </tr>\n",
       "    <tr>\n",
       "      <th>2</th>\n",
       "      <td>tina belcher glasses</td>\n",
       "      <td>INNOCHEER Party Sunglasses for Kids with UV400...</td>\n",
       "      <td>1</td>\n",
       "      <td>750355</td>\n",
       "    </tr>\n",
       "    <tr>\n",
       "      <th>3</th>\n",
       "      <td>plastic star wars hat</td>\n",
       "      <td>INNOCHEER Party Sunglasses for Kids with UV400...</td>\n",
       "      <td>1</td>\n",
       "      <td>750355</td>\n",
       "    </tr>\n",
       "    <tr>\n",
       "      <th>4</th>\n",
       "      <td>sxs lift table</td>\n",
       "      <td>Vestil A-LIFT-DK Deck Platform for Hand Winch ...</td>\n",
       "      <td>1</td>\n",
       "      <td>774564</td>\n",
       "    </tr>\n",
       "  </tbody>\n",
       "</table>\n",
       "</div>"
      ],
      "text/plain": [
       "                     query                                       product_text  \\\n",
       "0  toddler 115mm polarized  INNOCHEER Party Sunglasses for Kids with UV400...   \n",
       "1       plastic star favor  INNOCHEER Party Sunglasses for Kids with UV400...   \n",
       "2     tina belcher glasses  INNOCHEER Party Sunglasses for Kids with UV400...   \n",
       "3    plastic star wars hat  INNOCHEER Party Sunglasses for Kids with UV400...   \n",
       "4           sxs lift table  Vestil A-LIFT-DK Deck Platform for Hand Winch ...   \n",
       "\n",
       "   relevance_label      id  \n",
       "0                1  750355  \n",
       "1                1  750355  \n",
       "2                1  750355  \n",
       "3                1  750355  \n",
       "4                1  774564  "
      ]
     },
     "execution_count": 4,
     "metadata": {},
     "output_type": "execute_result"
    }
   ],
   "source": [
    "print(\"NaN values in 'query':\", df['query'].isna().sum())\n",
    "print(\"NaN values in 'document':\", df['product_text'].isna().sum())\n",
    "df.dropna(inplace=True)\n",
    "df.head()"
   ]
  },
  {
   "cell_type": "markdown",
   "id": "dd944b3e-1202-4375-a8ae-66db8b02ecba",
   "metadata": {
    "tags": []
   },
   "source": [
    "**Evaluate Diversity of Queries and Documents**\n",
    "\n",
    "- **Vocabulary Diversity**: Check the diversity of vocabulary across your queries and documents. High diversity typically indicates that your dataset covers a wide range of topics, which can be desirable in some applications.\n",
    "- **TF-IDF Analysis**: Using TF-IDF scores, you can identify the most distinctive terms for queries and documents. If the high-weight terms for each query are consistently present in the corresponding document, its a good sign for relevance.\n"
   ]
  },
  {
   "cell_type": "code",
   "execution_count": 5,
   "id": "b31d1656-b473-42fe-8979-d0e9d08ebd24",
   "metadata": {},
   "outputs": [
    {
     "name": "stdout",
     "output_type": "stream",
     "text": [
      "Query Vocabulary Size: 53701\n",
      "Product Text Vocabulary Size: 1821431\n",
      "Vocabulary Diversity Ratio (query/document): 0.02948286265030078\n",
      "Average Cosine Similarity between queries and documents: 0.17839936047933475\n",
      "Top terms for query humidifier without filter: ['without', 'filter', 'humidifier']\n",
      "Top terms for query step in bike basket coupler: ['in', 'step', 'bike', 'basket', 'coupler']\n",
      "Top terms for query 1 in pvc: ['in', 'pvc']\n",
      "Top terms for query open when letters kit: ['when', 'kit', 'open', 'letters']\n",
      "Top terms for query garden gate: ['garden', 'gate']\n",
      "Top terms for query pink hair pins: ['pink', 'hair', 'pins']\n",
      "Top terms for query 1/2 inch curling iron for hair: ['for', 'inch', 'hair', 'iron', 'curling']\n",
      "Top terms for query wide calf combat boots for women: ['for', 'women', 'wide', 'boots', 'combat', 'calf']\n",
      "Top terms for query 12 inch carabiner rod: ['inch', '12', 'rod', 'carabiner']\n",
      "Top terms for query zip up nightgowns for women: ['for', 'up', 'women', 'zip', 'nightgowns']\n"
     ]
    }
   ],
   "source": [
    "# Step 1: Vocabulary Diversity\n",
    "# Measure unique vocabulary in queries and product_text\n",
    "query_vocab = set(\" \".join(df['query']).split())\n",
    "product_text_vocab = set(\" \".join(df['product_text']).split())\n",
    "\n",
    "query_vocab_size = len(query_vocab)\n",
    "product_text_vocab_size = len(product_text_vocab)\n",
    "\n",
    "# Ratio of unique terms in queries to documents\n",
    "vocab_diversity_ratio = query_vocab_size / product_text_vocab_size\n",
    "\n",
    "print(f\"Query Vocabulary Size: {query_vocab_size}\")\n",
    "print(f\"Product Text Vocabulary Size: {product_text_vocab_size}\")\n",
    "print(f\"Vocabulary Diversity Ratio (query/document): {vocab_diversity_ratio}\")\n",
    "\n",
    "# Step 2: TF-IDF Analysis\n",
    "# We'll use a subset of data if the set is too large, e.g., first 100,000 rows\n",
    "subset_data = df.sample(100_000, random_state=119)\n",
    "\n",
    "# Fit TF-IDF on combined corpus of queries and product_text\n",
    "combined_corpus = pd.concat([subset_data['query'], subset_data['product_text']])\n",
    "tfidf_vectorizer = TfidfVectorizer()\n",
    "tfidf_vectorizer.fit(combined_corpus)\n",
    "\n",
    "# Transform both queries and product_text using the same fitted vocabulary\n",
    "tfidf_queries = tfidf_vectorizer.transform(subset_data['query'])\n",
    "tfidf_products = tfidf_vectorizer.transform(subset_data['product_text'])\n",
    "\n",
    "# Calculate cosine similarity\n",
    "cosine_similarities = cosine_similarity(tfidf_queries, tfidf_products)\n",
    "\n",
    "# Average cosine similarity (indicates the general relevance across the subset)\n",
    "average_cosine_similarity = np.mean([cosine_similarities[i, i] for i in range(len(cosine_similarities))])\n",
    "\n",
    "print(f\"Average Cosine Similarity between queries and documents: {average_cosine_similarity}\")\n",
    "\n",
    "# Step 3: Analyzing High-Weight Terms\n",
    "# For queries, identify the most significant TF-IDF terms (features with highest weights)\n",
    "feature_names = tfidf_vectorizer.get_feature_names_out()\n",
    "top_n_terms = 10  # Define how many top terms you want to inspect for each\n",
    "\n",
    "# Extract the top terms for the first 10 samples to understand diversity\n",
    "for i in range(10):\n",
    "    row = tfidf_queries[i].tocoo()\n",
    "    top_indices = row.col[np.argsort(row.data)[-top_n_terms:]]\n",
    "    top_terms = [feature_names[index] for index in top_indices]\n",
    "    print(f\"Top terms for query {subset_data['query'].iloc[i]}: {top_terms}\")"
   ]
  },
  {
   "cell_type": "code",
   "execution_count": 6,
   "id": "d9d4cdfd-8daa-44d3-89fc-37a903adb1cc",
   "metadata": {
    "tags": []
   },
   "outputs": [
    {
     "data": {
      "image/png": "[encoded data removed]",
      "text/plain": [
       "<Figure size 800x600 with 1 Axes>"
      ]
     },
     "metadata": {},
     "output_type": "display_data"
    }
   ],
   "source": [
    "plt.figure(figsize=(8, 6))\n",
    "plt.hist(cosine_similarities.diagonal(), bins=50, color='skyblue')\n",
    "plt.xlabel('Cosine Similarity')\n",
    "plt.ylabel('Frequency')\n",
    "plt.title('Cosine Similarity Distribution between Queries and Product Texts')\n",
    "plt.show()"
   ]
  },
  {
   "cell_type": "code",
   "execution_count": null,
   "id": "a7f25173-04a0-4e73-a744-e31c2072ca5a",
   "metadata": {
    "tags": []
   },
   "outputs": [],
   "source": []
  },
  {
   "cell_type": "markdown",
   "id": "296daddc-73f5-450f-bc17-4ee7a3d5df93",
   "metadata": {},
   "source": [
    "**Assess Quality with Statistical Measures**\n",
    "\n",
    "- **Distribution of Query Lengths**: Calculate the average, median, and standard deviation of query lengths. Unnaturally short or long queries might indicate issues with the synthetic generation process.\n",
    "- **Term Frequency Analysis**: Examine term frequency distributions within queries and documents. If certain terms appear unusually often, this might indicate issues with the generation process, such as repetitive or uninformative text."
   ]
  },
  {
   "cell_type": "code",
   "execution_count": 5,
   "id": "455e096b-9f64-4056-b4c8-29ba9f0d9577",
   "metadata": {},
   "outputs": [
    {
     "name": "stdout",
     "output_type": "stream",
     "text": [
      "Average query length: 22.077915593738837\n",
      "Average document length: 1630.6082290518743\n",
      "Query length standard deviation: 8.495691340668827\n"
     ]
    }
   ],
   "source": [
    "df['query_length'] = df['query'].apply(len)\n",
    "df['product_text_length'] = df['product_text'].apply(len)\n",
    "\n",
    "print(\"Average query length:\", df['query_length'].mean())\n",
    "print(\"Average document length:\", df['product_text_length'].mean())\n",
    "print(\"Query length standard deviation:\", df['query_length'].std())"
   ]
  },
  {
   "cell_type": "markdown",
   "id": "5c7b1094-a071-4381-bacd-3a6786d99e43",
   "metadata": {},
   "source": [
    "**Embedding Similarity**\n",
    "\n",
    "Compute similarity scores (e.g., cosine similarity) between query and document embeddings. If they are supposed to be relevant pairs, embeddings should be closer in vector space.\n",
    "\n",
    "We load the precomputed embeddings from GTE-en-large-v1.5"
   ]
  },
  {
   "cell_type": "code",
   "execution_count": 2,
   "id": "0086b65e-d142-47ec-8f45-114f9fb7dad4",
   "metadata": {
    "tags": []
   },
   "outputs": [
    {
     "name": "stdout",
     "output_type": "stream",
     "text": [
      "count    290016.000000\n",
      "mean          0.643556\n",
      "std           0.095470\n",
      "min           0.149147\n",
      "25%           0.585007\n",
      "50%           0.651598\n",
      "75%           0.709024\n",
      "max           1.000000\n",
      "Name: cosine_similarity, dtype: float64\n"
     ]
    },
    {
     "data": {
      "image/png": "[encoded data removed]",
      "text/plain": [
       "<Figure size 1000x600 with 1 Axes>"
      ]
     },
     "metadata": {},
     "output_type": "display_data"
    }
   ],
   "source": [
    "df = pd.read_parquet('../synth_set/synthetic_positive_pairs.parquet.gzip')\n",
    "df = pd.merge(df, pd.read_pickle('../p_collection.pkl'), on='id')\n",
    "df.dropna(subset=['query', 'product_embedding'], inplace=True)\n",
    "df = df.sample(frac=0.2, random_state=119)\n",
    "\n",
    "# Convert embeddings to arrays\n",
    "df['product_embedding'] = df['product_embedding'].apply(np.array)\n",
    "df['query_embedding'] = df['query_embedding'].apply(np.array)\n",
    "\n",
    "# Define batch size\n",
    "batch_size = 500  # Adjust based on available memory\n",
    "cosine_similarities = []\n",
    "\n",
    "# Calculate cosine similarity in batches\n",
    "for start in range(0, len(df), batch_size):\n",
    "    end = min(start + batch_size, len(df))\n",
    "    query_batch = np.vstack(df['query_embedding'].iloc[start:end].tolist())\n",
    "    product_batch = np.vstack(df['product_embedding'].iloc[start:end].tolist())\n",
    "    batch_cosine_similarities = cosine_similarity(query_batch, product_batch)\n",
    "    cosine_similarities.extend([batch_cosine_similarities[i, i] for i in range(batch_cosine_similarities.shape[0])])\n",
    "\n",
    "# Add cosine similarities to DataFrame\n",
    "df = df.iloc[:len(cosine_similarities)].copy()  # Trim if last batch size was smaller\n",
    "df['cosine_similarity'] = cosine_similarities\n",
    "\n",
    "# Display cosine similarity statistics\n",
    "cosine_similarity_stats = df['cosine_similarity'].describe()\n",
    "print(cosine_similarity_stats)\n",
    "\n",
    "plt.figure(figsize=(10, 6))\n",
    "plt.hist(df['cosine_similarity'], bins=30, edgecolor='k', alpha=0.7)\n",
    "plt.title(\"Distribution of Cosine Similarities\")\n",
    "plt.xlabel(\"Cosine Similarity\")\n",
    "plt.ylabel(\"Frequency\")\n",
    "plt.savefig('synthetic_data_cosine_similarity.png', dpi=300)\n",
    "plt.show()"
   ]
  },
  {
   "cell_type": "code",
   "execution_count": null,
   "id": "e2bc9e89-4edd-469d-b9e7-81379ac57b66",
   "metadata": {
    "tags": []
   },
   "outputs": [],
   "source": []
  },
  {
   "cell_type": "code",
   "execution_count": null,
   "id": "6d1bc7d8-feac-41e9-adac-b8e880b6119b",
   "metadata": {},
   "outputs": [],
   "source": []
  }
 ],
 "metadata": {
  "kernelspec": {
   "display_name": "Python 3 (ipykernel)",
   "language": "python",
   "name": "python3"
  },
  "language_info": {
   "codemirror_mode": {
    "name": "ipython",
    "version": 3
   },
   "file_extension": ".py",
   "mimetype": "text/x-python",
   "name": "python",
   "nbconvert_exporter": "python",
   "pygments_lexer": "ipython3",
   "version": "3.10.14"
  }
 },
 "nbformat": 4,
 "nbformat_minor": 5
}
