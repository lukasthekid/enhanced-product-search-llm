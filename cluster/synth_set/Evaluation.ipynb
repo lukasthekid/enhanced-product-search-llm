{
 "cells": [
  {
   "cell_type": "code",
   "execution_count": 1,
   "id": "51fef3aa-b4da-446a-9ee2-2fe2566c6359",
   "metadata": {
    "tags": []
   },
   "outputs": [],
   "source": [
    "import numpy as np\n",
    "import pandas as pd"
   ]
  },
  {
   "cell_type": "code",
   "execution_count": 2,
   "id": "40540cd8-d491-4ae0-a525-9e8c80a6c05d",
   "metadata": {},
   "outputs": [],
   "source": [
    "df_pos_neg = pd.read_csv('synthetic_positive_pairs.tsv', sep='\\t')"
   ]
  },
  {
   "cell_type": "code",
   "execution_count": 3,
   "id": "14d84967-bac9-45cd-8d76-f5455f618dd5",
   "metadata": {},
   "outputs": [],
   "source": [
    "df_pos_neg.sample(100, random_state=119).to_csv('inspect1.tsv', sep='\\t', index=False)"
   ]
  },
  {
   "cell_type": "code",
   "execution_count": 6,
   "id": "24d075e9-7323-41fe-acd6-13668686c643",
   "metadata": {
    "tags": []
   },
   "outputs": [
    {
     "name": "stdout",
     "output_type": "stream",
     "text": [
      "Token Count Statistics:\n",
      "count    30734.000000\n",
      "mean         3.983276\n",
      "std          2.017005\n",
      "min          1.000000\n",
      "25%          3.000000\n",
      "50%          4.000000\n",
      "75%          5.000000\n",
      "max         29.000000\n",
      "Name: token_count, dtype: float64\n",
      "\n",
      "Token Count Quantiles:\n",
      "0.25     3.0\n",
      "0.50     4.0\n",
      "0.75     5.0\n",
      "0.95     7.0\n",
      "0.99    11.0\n",
      "Name: token_count, dtype: float64\n"
     ]
    }
   ],
   "source": [
    "df_query = pd.read_csv('qid2query.tsv', sep='\\t',names=['qid', 'query'], header=None)\n",
    "\n",
    "# Define a function to count tokens in a query\n",
    "def count_tokens(query):\n",
    "    return len(str(query).split())\n",
    "\n",
    "# Apply the function to the 'query' column to create a new 'token_count' column\n",
    "df_query['token_count'] = df_query['query'].apply(count_tokens)\n",
    "\n",
    "# Basic statistics\n",
    "token_stats = df_query['token_count'].describe()\n",
    "print(\"Token Count Statistics:\")\n",
    "print(token_stats)\n",
    "\n",
    "# Compute specific quantiles\n",
    "quantiles = df_query['token_count'].quantile([0.25, 0.5, 0.75, 0.95, 0.99])\n",
    "print(\"\\nToken Count Quantiles:\")\n",
    "print(quantiles)"
   ]
  },
  {
   "cell_type": "code",
   "execution_count": null,
   "id": "a004eabd-3257-4841-9f1f-da1adb620866",
   "metadata": {},
   "outputs": [],
   "source": []
  }
 ],
 "metadata": {
  "kernelspec": {
   "display_name": "Python 3 (ipykernel)",
   "language": "python",
   "name": "python3"
  },
  "language_info": {
   "codemirror_mode": {
    "name": "ipython",
    "version": 3
   },
   "file_extension": ".py",
   "mimetype": "text/x-python",
   "name": "python",
   "nbconvert_exporter": "python",
   "pygments_lexer": "ipython3",
   "version": "3.10.14"
  }
 },
 "nbformat": 4,
 "nbformat_minor": 5
}
