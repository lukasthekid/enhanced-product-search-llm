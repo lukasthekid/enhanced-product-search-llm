{
 "cells": [
  {
   "cell_type": "code",
   "execution_count": 1,
   "id": "ec8e619a-b81a-4922-9b6e-1c2d2ae44011",
   "metadata": {},
   "outputs": [
    {
     "name": "stderr",
     "output_type": "stream",
     "text": [
      "/Users/lukasburtscher/Desktop/tuwien/msc/enhanced-product-search-llm/venv/lib/python3.11/site-packages/tqdm/auto.py:21: TqdmWarning: IProgress not found. Please update jupyter and ipywidgets. See https://ipywidgets.readthedocs.io/en/stable/user_install.html\n",
      "  from .autonotebook import tqdm as notebook_tqdm\n"
     ]
    },
    {
     "name": "stdout",
     "output_type": "stream",
     "text": [
      "/Users/lukasburtscher/Desktop/tuwien/msc/enhanced-product-search-llm/venv/bin/python\n"
     ]
    }
   ],
   "source": [
    "import numpy as np\n",
    "import pandas as pd\n",
    "from datasets import Dataset\n",
    "import sys\n",
    "import json\n",
    "import jsonlines\n",
    "print(sys.executable)\n",
    "# python version 3.11.9\n",
    "\n",
    "COLLECTION_PATH = '../data/collection.tsv'\n",
    "COLLECTION_OUTPUT_PATH = '../data/p_collection.tsv'\n",
    "COLLECTION_OUTPUT_PATH_SMALL = '../data/p_collection_small.tsv'\n",
    "QREL_TRAIN_PATH = '../data/QREL/train.qrels'\n",
    "QREL_DEV_PATH = '../data/QREL/dev.qrels'\n",
    "PASSAGES_PATH='../data/train.jsonl'\n",
    "PASSAGES_OUTPUT_PATH='../data/p_train.jsonl'\n",
    "QUERY_PRODUCT_PATH='../data/query_product.tsv'\n",
    "QUERY_PATH = '../data/qid2query.tsv'"
   ]
  },
  {
   "cell_type": "code",
   "execution_count": 2,
   "id": "4a5e8dcd-ead6-4c83-801c-8f744c607b89",
   "metadata": {},
   "outputs": [
    {
     "data": {
      "text/html": [
       "<div>\n",
       "<style scoped>\n",
       "    .dataframe tbody tr th:only-of-type {\n",
       "        vertical-align: middle;\n",
       "    }\n",
       "\n",
       "    .dataframe tbody tr th {\n",
       "        vertical-align: top;\n",
       "    }\n",
       "\n",
       "    .dataframe thead th {\n",
       "        text-align: right;\n",
       "    }\n",
       "</style>\n",
       "<table border=\"1\" class=\"dataframe\">\n",
       "  <thead>\n",
       "    <tr style=\"text-align: right;\">\n",
       "      <th></th>\n",
       "      <th>id</th>\n",
       "      <th>title</th>\n",
       "      <th>description</th>\n",
       "    </tr>\n",
       "  </thead>\n",
       "  <tbody>\n",
       "    <tr>\n",
       "      <th>0</th>\n",
       "      <td>1</td>\n",
       "      <td>FYY Leather Case with Mirror for Samsung Galax...</td>\n",
       "      <td>Product Description Premium PU Leather Top qua...</td>\n",
       "    </tr>\n",
       "    <tr>\n",
       "      <th>1</th>\n",
       "      <td>2</td>\n",
       "      <td>Playtex Women's 18 Hour Easy On, Easy Off Fron...</td>\n",
       "      <td>Product Description Introducing Playtex 18 hou...</td>\n",
       "    </tr>\n",
       "    <tr>\n",
       "      <th>2</th>\n",
       "      <td>4</td>\n",
       "      <td>YUEPIN U-Tube Clamp 304 Stainless Steel Hose P...</td>\n",
       "      <td>Product Description Specification: Material: 3...</td>\n",
       "    </tr>\n",
       "    <tr>\n",
       "      <th>3</th>\n",
       "      <td>5</td>\n",
       "      <td>Bruce's Big Storm (Mother Bruce Series)</td>\n",
       "      <td>NaN</td>\n",
       "    </tr>\n",
       "    <tr>\n",
       "      <th>4</th>\n",
       "      <td>6</td>\n",
       "      <td>DJI Shoulder Neck Strap Belt Sling Lanyard Nec...</td>\n",
       "      <td>Product Description Specifications: Item Condi...</td>\n",
       "    </tr>\n",
       "  </tbody>\n",
       "</table>\n",
       "</div>"
      ],
      "text/plain": [
       "   id                                              title  \\\n",
       "0   1  FYY Leather Case with Mirror for Samsung Galax...   \n",
       "1   2  Playtex Women's 18 Hour Easy On, Easy Off Fron...   \n",
       "2   4  YUEPIN U-Tube Clamp 304 Stainless Steel Hose P...   \n",
       "3   5            Bruce's Big Storm (Mother Bruce Series)   \n",
       "4   6  DJI Shoulder Neck Strap Belt Sling Lanyard Nec...   \n",
       "\n",
       "                                         description  \n",
       "0  Product Description Premium PU Leather Top qua...  \n",
       "1  Product Description Introducing Playtex 18 hou...  \n",
       "2  Product Description Specification: Material: 3...  \n",
       "3                                                NaN  \n",
       "4  Product Description Specifications: Item Condi...  "
      ]
     },
     "execution_count": 2,
     "metadata": {},
     "output_type": "execute_result"
    }
   ],
   "source": [
    "collection = pd.read_csv(COLLECTION_PATH, sep='\\t', names=['id', 'title', 'description'], header=None)\n",
    "collection.head()"
   ]
  },
  {
   "cell_type": "code",
   "execution_count": 3,
   "id": "ea6e73c2-d010-4ee3-a228-eeb40f1805cc",
   "metadata": {},
   "outputs": [],
   "source": [
    "useless_d = ['From the manufacturer Previous page Next page Previous page Next page Previous page Next page  ',\n",
    "            'Product Description Read more ', 'Product Description ', 'From the manufacturer Read more Read more Read more Read more  ',\n",
    "             'Product Description 1 Product Description 1', 'Product Description Read more Read more ', ''\n",
    "            ]\n",
    "\n",
    "def clean_collection_data(df, d = 'description', t = 'title'):\n",
    "    print('Original Collection')\n",
    "    print(df.shape)\n",
    "    print(df.isnull().sum(), '\\n')\n",
    "    df = df.drop_duplicates(subset=[d, t])\n",
    "    df.loc[df[d].isin(useless_d), d] = None\n",
    "    df.loc[df[t].isin(useless_d), t] = None\n",
    "    df = df.dropna(subset=[d,t], how='all')\n",
    "    df[d] = df[d].str.replace('Read more', '')\n",
    "    df[d] = df[d].str.replace('Product Description', '')\n",
    "    df['product_text'] = df[t].fillna('') + ' ' + df[d].fillna('')\n",
    "    print(f\"New shape after cleaning product descriptions': {df.shape}\")\n",
    "    print(df.isnull().sum())\n",
    "    return df.copy()\n",
    "    "
   ]
  },
  {
   "cell_type": "markdown",
   "id": "7716aa59-0ad5-4117-8757-2a1968458041",
   "metadata": {},
   "source": [
    "### Preprocess Collection frame"
   ]
  },
  {
   "cell_type": "code",
   "execution_count": 5,
   "id": "1f733b9f-ecf3-4134-9f9c-5090f09f4202",
   "metadata": {},
   "outputs": [
    {
     "name": "stdout",
     "output_type": "stream",
     "text": [
      "Original Collection\n",
      "(1118640, 3)\n",
      "id                  0\n",
      "title           38556\n",
      "description    222913\n",
      "dtype: int64 \n",
      "\n",
      "New shape after cleaning product descriptions': (980974, 4)\n",
      "id                   0\n",
      "title               69\n",
      "description     184780\n",
      "product_text         0\n",
      "dtype: int64\n"
     ]
    }
   ],
   "source": [
    "\n",
    "col_cleaned = clean_collection_data(collection)"
   ]
  },
  {
   "cell_type": "markdown",
   "id": "873a6531-d88d-4988-ac1e-b6c859a97f62",
   "metadata": {},
   "source": [
    "### Preprocess train.jsonl\n",
    "- generate a product_description to query data frame for matches"
   ]
  },
  {
   "cell_type": "code",
   "execution_count": 6,
   "id": "5c8a1f5f-cb2d-4a78-9cdb-ba404ecae625",
   "metadata": {},
   "outputs": [
    {
     "name": "stdout",
     "output_type": "stream",
     "text": [
      "Filtering complete.\n"
     ]
    }
   ],
   "source": [
    "# load the jsonl file\n",
    "valid_docids = set(col_cleaned['id'])\n",
    "\n",
    "# Function to filter passages\n",
    "def filter_passages(passages, valid_docids):\n",
    "    return [passage for passage in passages if passage['docid'] in valid_docids]\n",
    "\n",
    "\n",
    "with open(PASSAGES_PATH, 'r') as infile, open(PASSAGES_OUTPUT_PATH, 'w') as outfile:\n",
    "    for line in infile:\n",
    "        data = json.loads(line)\n",
    "        data['positive_passages'] = filter_passages(data.get('positive_passages', []), valid_docids)\n",
    "        data['negative_passages'] = filter_passages(data.get('negative_passages', []), valid_docids)\n",
    "        \n",
    "        # Only write the line if there are still positive passages left\n",
    "        if data['positive_passages']:\n",
    "            outfile.write(json.dumps(data) + '\\n')\n",
    "\n",
    "print(\"Filtering complete.\")\n"
   ]
  },
  {
   "cell_type": "code",
   "execution_count": 7,
   "id": "44387103-a47c-4800-9879-d2c33179f6b2",
   "metadata": {},
   "outputs": [
    {
     "name": "stdout",
     "output_type": "stream",
     "text": [
      "(342964, 5)\n"
     ]
    },
    {
     "data": {
      "text/html": [
       "<div>\n",
       "<style scoped>\n",
       "    .dataframe tbody tr th:only-of-type {\n",
       "        vertical-align: middle;\n",
       "    }\n",
       "\n",
       "    .dataframe tbody tr th {\n",
       "        vertical-align: top;\n",
       "    }\n",
       "\n",
       "    .dataframe thead th {\n",
       "        text-align: right;\n",
       "    }\n",
       "</style>\n",
       "<table border=\"1\" class=\"dataframe\">\n",
       "  <thead>\n",
       "    <tr style=\"text-align: right;\">\n",
       "      <th></th>\n",
       "      <th>query_id</th>\n",
       "      <th>query</th>\n",
       "      <th>product_description</th>\n",
       "      <th>product_id</th>\n",
       "      <th>title</th>\n",
       "    </tr>\n",
       "  </thead>\n",
       "  <tbody>\n",
       "    <tr>\n",
       "      <th>0</th>\n",
       "      <td>1</td>\n",
       "      <td>!awnmower tires without rims</td>\n",
       "      <td>Product Description Read more Read more All-pu...</td>\n",
       "      <td>1049092</td>\n",
       "      <td>2 Pack 10-Inch Tires and Wheels 4.10/3.50-4 Re...</td>\n",
       "    </tr>\n",
       "    <tr>\n",
       "      <th>1</th>\n",
       "      <td>1</td>\n",
       "      <td>!awnmower tires without rims</td>\n",
       "      <td>From the brand Previous page MaxAuto is a thri...</td>\n",
       "      <td>314519</td>\n",
       "      <td>MaxAuto 13x5.00-6 Lawn Mower Tires with Rim 13...</td>\n",
       "    </tr>\n",
       "    <tr>\n",
       "      <th>2</th>\n",
       "      <td>1</td>\n",
       "      <td>!awnmower tires without rims</td>\n",
       "      <td>Product Description 20601A Neiko Tire Spoons R...</td>\n",
       "      <td>689593</td>\n",
       "      <td>NEIKO 20601A 14.5” Steel Tire Spoons Tool Set,...</td>\n",
       "    </tr>\n",
       "    <tr>\n",
       "      <th>3</th>\n",
       "      <td>1</td>\n",
       "      <td>!awnmower tires without rims</td>\n",
       "      <td></td>\n",
       "      <td>717649</td>\n",
       "      <td>2PK 13x5.00-6 13x5.00x6 13x5x6 13x5-6 2PLY Tur...</td>\n",
       "    </tr>\n",
       "    <tr>\n",
       "      <th>4</th>\n",
       "      <td>1</td>\n",
       "      <td>!awnmower tires without rims</td>\n",
       "      <td>Product Description 15x6.00-6 Husqvarna Replac...</td>\n",
       "      <td>1397156</td>\n",
       "      <td>(Set of 2) 15x6.00-6 Husqvarna/Poulan Tire Whe...</td>\n",
       "    </tr>\n",
       "  </tbody>\n",
       "</table>\n",
       "</div>"
      ],
      "text/plain": [
       "   query_id                         query  \\\n",
       "0         1  !awnmower tires without rims   \n",
       "1         1  !awnmower tires without rims   \n",
       "2         1  !awnmower tires without rims   \n",
       "3         1  !awnmower tires without rims   \n",
       "4         1  !awnmower tires without rims   \n",
       "\n",
       "                                 product_description  product_id  \\\n",
       "0  Product Description Read more Read more All-pu...     1049092   \n",
       "1  From the brand Previous page MaxAuto is a thri...      314519   \n",
       "2  Product Description 20601A Neiko Tire Spoons R...      689593   \n",
       "3                                                         717649   \n",
       "4  Product Description 15x6.00-6 Husqvarna Replac...     1397156   \n",
       "\n",
       "                                               title  \n",
       "0  2 Pack 10-Inch Tires and Wheels 4.10/3.50-4 Re...  \n",
       "1  MaxAuto 13x5.00-6 Lawn Mower Tires with Rim 13...  \n",
       "2  NEIKO 20601A 14.5” Steel Tire Spoons Tool Set,...  \n",
       "3  2PK 13x5.00-6 13x5.00x6 13x5x6 13x5-6 2PLY Tur...  \n",
       "4  (Set of 2) 15x6.00-6 Husqvarna/Poulan Tire Whe...  "
      ]
     },
     "execution_count": 7,
     "metadata": {},
     "output_type": "execute_result"
    }
   ],
   "source": [
    "#generate query product description set\n",
    "data = []\n",
    "with jsonlines.open(PASSAGES_OUTPUT_PATH) as reader:\n",
    "    for obj in reader:\n",
    "        data.append(obj)\n",
    "\n",
    "train_data = []\n",
    "for entry in data:\n",
    "    for pos_passage in entry[\"positive_passages\"]:\n",
    "        train_data.append({\n",
    "                    \"query_id\": entry[\"query_id\"],\n",
    "                    \"query\": entry[\"query\"],\n",
    "                    \"product_description\": pos_passage[\"text\"],\n",
    "                    \"product_id\": pos_passage[\"docid\"]\n",
    "                })\n",
    "\n",
    "df_q_p = pd.DataFrame(train_data)\n",
    "df_q_p = pd.merge(df_q_p, col_cleaned[['id', 'title']], left_on='product_id', right_on='id', how='left')\n",
    "df_q_p = df_q_p.drop('id', axis=1)\n",
    "print(df_q_p.shape)\n",
    "df_q_p.head()"
   ]
  },
  {
   "cell_type": "markdown",
   "id": "32d50f37-46d2-410f-a40b-60a27d151601",
   "metadata": {},
   "source": [
    "### Preprocess The Query - Product Description Frame"
   ]
  },
  {
   "cell_type": "code",
   "execution_count": 8,
   "id": "1004bcb2-3b2b-4ef1-ab27-38b458b5e66a",
   "metadata": {},
   "outputs": [
    {
     "name": "stdout",
     "output_type": "stream",
     "text": [
      "Original Collection\n",
      "(342964, 5)\n",
      "query_id                0\n",
      "query                   0\n",
      "product_description     0\n",
      "product_id              0\n",
      "title                  15\n",
      "dtype: int64 \n",
      "\n",
      "New shape after cleaning product descriptions': (285646, 6)\n",
      "query_id                   0\n",
      "query                      0\n",
      "product_description    48312\n",
      "product_id                 0\n",
      "title                     10\n",
      "product_text               0\n",
      "dtype: int64\n"
     ]
    }
   ],
   "source": [
    "df_q_p_clean = clean_collection_data(df_q_p, d = 'product_description', t = 'title')"
   ]
  },
  {
   "cell_type": "markdown",
   "id": "2d64b7a2-f7f4-42aa-a4d6-721962fbb49b",
   "metadata": {},
   "source": [
    "#### remove less relevant query - product pairs from the frame"
   ]
  },
  {
   "cell_type": "code",
   "execution_count": 9,
   "id": "22fa4fce-7789-4eb0-bb5b-f8933803a9b4",
   "metadata": {},
   "outputs": [
    {
     "name": "stdout",
     "output_type": "stream",
     "text": [
      "(226438, 9)\n"
     ]
    },
    {
     "data": {
      "text/html": [
       "<div>\n",
       "<style scoped>\n",
       "    .dataframe tbody tr th:only-of-type {\n",
       "        vertical-align: middle;\n",
       "    }\n",
       "\n",
       "    .dataframe tbody tr th {\n",
       "        vertical-align: top;\n",
       "    }\n",
       "\n",
       "    .dataframe thead th {\n",
       "        text-align: right;\n",
       "    }\n",
       "</style>\n",
       "<table border=\"1\" class=\"dataframe\">\n",
       "  <thead>\n",
       "    <tr style=\"text-align: right;\">\n",
       "      <th></th>\n",
       "      <th>query_id</th>\n",
       "      <th>query</th>\n",
       "      <th>product_description</th>\n",
       "      <th>product_id</th>\n",
       "      <th>title</th>\n",
       "      <th>product_text</th>\n",
       "      <th>qid</th>\n",
       "      <th>docid</th>\n",
       "      <th>relevance_score</th>\n",
       "    </tr>\n",
       "  </thead>\n",
       "  <tbody>\n",
       "    <tr>\n",
       "      <th>1</th>\n",
       "      <td>1</td>\n",
       "      <td>!awnmower tires without rims</td>\n",
       "      <td>From the brand Previous page MaxAuto is a thri...</td>\n",
       "      <td>314519</td>\n",
       "      <td>MaxAuto 13x5.00-6 Lawn Mower Tires with Rim 13...</td>\n",
       "      <td>MaxAuto 13x5.00-6 Lawn Mower Tires with Rim 13...</td>\n",
       "      <td>1</td>\n",
       "      <td>314519</td>\n",
       "      <td>3</td>\n",
       "    </tr>\n",
       "    <tr>\n",
       "      <th>3</th>\n",
       "      <td>1</td>\n",
       "      <td>!awnmower tires without rims</td>\n",
       "      <td>None</td>\n",
       "      <td>717649</td>\n",
       "      <td>2PK 13x5.00-6 13x5.00x6 13x5x6 13x5-6 2PLY Tur...</td>\n",
       "      <td>2PK 13x5.00-6 13x5.00x6 13x5x6 13x5-6 2PLY Tur...</td>\n",
       "      <td>1</td>\n",
       "      <td>717649</td>\n",
       "      <td>2</td>\n",
       "    </tr>\n",
       "    <tr>\n",
       "      <th>4</th>\n",
       "      <td>1</td>\n",
       "      <td>!awnmower tires without rims</td>\n",
       "      <td>15x6.00-6 Husqvarna Replacement Assemblies Re...</td>\n",
       "      <td>1397156</td>\n",
       "      <td>(Set of 2) 15x6.00-6 Husqvarna/Poulan Tire Whe...</td>\n",
       "      <td>(Set of 2) 15x6.00-6 Husqvarna/Poulan Tire Whe...</td>\n",
       "      <td>1</td>\n",
       "      <td>1397156</td>\n",
       "      <td>3</td>\n",
       "    </tr>\n",
       "    <tr>\n",
       "      <th>5</th>\n",
       "      <td>1</td>\n",
       "      <td>!awnmower tires without rims</td>\n",
       "      <td>From the brand Previous page MaxAuto is a thri...</td>\n",
       "      <td>1095149</td>\n",
       "      <td>MaxAuto 2 Pcs 16x6.50-8 Lawn Mower Tire for Ga...</td>\n",
       "      <td>MaxAuto 2 Pcs 16x6.50-8 Lawn Mower Tire for Ga...</td>\n",
       "      <td>1</td>\n",
       "      <td>1095149</td>\n",
       "      <td>3</td>\n",
       "    </tr>\n",
       "    <tr>\n",
       "      <th>7</th>\n",
       "      <td>1</td>\n",
       "      <td>!awnmower tires without rims</td>\n",
       "      <td>Marastar's 2 Pack 15x6 00-6 air filled (pneum...</td>\n",
       "      <td>911618</td>\n",
       "      <td>MARASTAR 21446-2PK 15x6.00-6\" Front Tire Assem...</td>\n",
       "      <td>MARASTAR 21446-2PK 15x6.00-6\" Front Tire Assem...</td>\n",
       "      <td>1</td>\n",
       "      <td>911618</td>\n",
       "      <td>3</td>\n",
       "    </tr>\n",
       "  </tbody>\n",
       "</table>\n",
       "</div>"
      ],
      "text/plain": [
       "   query_id                         query  \\\n",
       "1         1  !awnmower tires without rims   \n",
       "3         1  !awnmower tires without rims   \n",
       "4         1  !awnmower tires without rims   \n",
       "5         1  !awnmower tires without rims   \n",
       "7         1  !awnmower tires without rims   \n",
       "\n",
       "                                 product_description  product_id  \\\n",
       "1  From the brand Previous page MaxAuto is a thri...      314519   \n",
       "3                                               None      717649   \n",
       "4   15x6.00-6 Husqvarna Replacement Assemblies Re...     1397156   \n",
       "5  From the brand Previous page MaxAuto is a thri...     1095149   \n",
       "7   Marastar's 2 Pack 15x6 00-6 air filled (pneum...      911618   \n",
       "\n",
       "                                               title  \\\n",
       "1  MaxAuto 13x5.00-6 Lawn Mower Tires with Rim 13...   \n",
       "3  2PK 13x5.00-6 13x5.00x6 13x5x6 13x5-6 2PLY Tur...   \n",
       "4  (Set of 2) 15x6.00-6 Husqvarna/Poulan Tire Whe...   \n",
       "5  MaxAuto 2 Pcs 16x6.50-8 Lawn Mower Tire for Ga...   \n",
       "7  MARASTAR 21446-2PK 15x6.00-6\" Front Tire Assem...   \n",
       "\n",
       "                                        product_text  qid    docid  \\\n",
       "1  MaxAuto 13x5.00-6 Lawn Mower Tires with Rim 13...    1   314519   \n",
       "3  2PK 13x5.00-6 13x5.00x6 13x5x6 13x5-6 2PLY Tur...    1   717649   \n",
       "4  (Set of 2) 15x6.00-6 Husqvarna/Poulan Tire Whe...    1  1397156   \n",
       "5  MaxAuto 2 Pcs 16x6.50-8 Lawn Mower Tire for Ga...    1  1095149   \n",
       "7  MARASTAR 21446-2PK 15x6.00-6\" Front Tire Assem...    1   911618   \n",
       "\n",
       "   relevance_score  \n",
       "1                3  \n",
       "3                2  \n",
       "4                3  \n",
       "5                3  \n",
       "7                3  "
      ]
     },
     "execution_count": 9,
     "metadata": {},
     "output_type": "execute_result"
    }
   ],
   "source": [
    "qrel = pd.read_csv(QREL_TRAIN_PATH, sep='\\t', names=['qid', '0', 'docid', 'relevance_score'], header=None)\n",
    "new_df = pd.merge(df_q_p_clean, qrel[['qid', 'docid', 'relevance_score']], left_on=['query_id', 'product_id'], right_on=['qid', 'docid'], how='left')\n",
    "test = new_df[new_df['relevance_score'] >= 2]\n",
    "print(test.shape)\n",
    "\n",
    "df_q_p_clean = test.copy()\n",
    "test.head()"
   ]
  },
  {
   "cell_type": "code",
   "execution_count": 6,
   "id": "76c13bdc-ecaf-4aff-a74f-1c8bbc879cf3",
   "metadata": {},
   "outputs": [
    {
     "name": "stdout",
     "output_type": "stream",
     "text": [
      "(169952, 4)\n",
      "(8954, 2)\n"
     ]
    }
   ],
   "source": [
    "# create a validation QREL and query set for hyperparamter tuning\n",
    "qrel = pd.read_csv(QREL_DEV_PATH, sep='\\t', names=['qid', '0', 'docid', 'relevance_score'], header=None)\n",
    "query = pd.read_csv(QUERY_PATH, sep='\\t', names=['qid', 'text'], header=None)\n",
    "# Filter out queries not present in both dataframes\n",
    "common_qids = set(qrel['qid']).intersection(set(query['qid']))\n",
    "qrel = qrel[qrel['qid'].isin(common_qids)]\n",
    "query = query[query['qid'].isin(common_qids)]\n",
    "print(qrel.shape)\n",
    "print(query.shape)\n",
    "\n",
    "# Create a dictionary of qid to query text\n",
    "query_dict = pd.Series(query.text.values, index=query.qid).to_dict()\n",
    "\n",
    "# Prepare the evaluation dataset\n",
    "evaluation_data = []\n",
    "for qid in common_qids:\n",
    "    query_text = query_dict[qid]\n",
    "    relevance_data = qrel[qrel['qid'] == qid]\n",
    "    for _, row in relevance_data.iterrows():\n",
    "        evaluation_data.append((query_text, row['docid'], row['relevance_score']))\n"
   ]
  },
  {
   "cell_type": "code",
   "execution_count": 10,
   "id": "c1b693d9-d31d-4753-baac-19ea0f0b3fc5",
   "metadata": {},
   "outputs": [],
   "source": [
    "col_cleaned.to_csv(COLLECTION_OUTPUT_PATH, sep='\\t', index=False)\n",
    "col_cleaned.head(10000).to_csv(COLLECTION_OUTPUT_PATH_SMALL, sep='\\t', index=False)\n",
    "df_q_p_clean.to_csv(QUERY_PRODUCT_PATH, sep='\\t', index=False)"
   ]
  },
  {
   "cell_type": "code",
   "execution_count": 8,
   "id": "17d37eff-bc4d-4370-8c56-0473daf7fffa",
   "metadata": {},
   "outputs": [
    {
     "data": {
      "text/html": [
       "<div>\n",
       "<style scoped>\n",
       "    .dataframe tbody tr th:only-of-type {\n",
       "        vertical-align: middle;\n",
       "    }\n",
       "\n",
       "    .dataframe tbody tr th {\n",
       "        vertical-align: top;\n",
       "    }\n",
       "\n",
       "    .dataframe thead th {\n",
       "        text-align: right;\n",
       "    }\n",
       "</style>\n",
       "<table border=\"1\" class=\"dataframe\">\n",
       "  <thead>\n",
       "    <tr style=\"text-align: right;\">\n",
       "      <th></th>\n",
       "      <th>id</th>\n",
       "      <th>title</th>\n",
       "      <th>description</th>\n",
       "    </tr>\n",
       "  </thead>\n",
       "  <tbody>\n",
       "    <tr>\n",
       "      <th>0</th>\n",
       "      <td>1</td>\n",
       "      <td>FYY Leather Case with Mirror for Samsung Galax...</td>\n",
       "      <td>Product Description Premium PU Leather Top qua...</td>\n",
       "    </tr>\n",
       "    <tr>\n",
       "      <th>1</th>\n",
       "      <td>2</td>\n",
       "      <td>Playtex Women's 18 Hour Easy On, Easy Off Fron...</td>\n",
       "      <td>Product Description Introducing Playtex 18 hou...</td>\n",
       "    </tr>\n",
       "    <tr>\n",
       "      <th>2</th>\n",
       "      <td>4</td>\n",
       "      <td>YUEPIN U-Tube Clamp 304 Stainless Steel Hose P...</td>\n",
       "      <td>Product Description Specification: Material: 3...</td>\n",
       "    </tr>\n",
       "    <tr>\n",
       "      <th>3</th>\n",
       "      <td>6</td>\n",
       "      <td>DJI Shoulder Neck Strap Belt Sling Lanyard Nec...</td>\n",
       "      <td>Product Description Specifications: Item Condi...</td>\n",
       "    </tr>\n",
       "    <tr>\n",
       "      <th>4</th>\n",
       "      <td>7</td>\n",
       "      <td>Crocs Jibbitz 5-Pack Alien Shoe Charms | Jibbi...</td>\n",
       "      <td>From the brand Previous page Shop Crocs Collec...</td>\n",
       "    </tr>\n",
       "  </tbody>\n",
       "</table>\n",
       "</div>"
      ],
      "text/plain": [
       "   id                                              title  \\\n",
       "0   1  FYY Leather Case with Mirror for Samsung Galax...   \n",
       "1   2  Playtex Women's 18 Hour Easy On, Easy Off Fron...   \n",
       "2   4  YUEPIN U-Tube Clamp 304 Stainless Steel Hose P...   \n",
       "3   6  DJI Shoulder Neck Strap Belt Sling Lanyard Nec...   \n",
       "4   7  Crocs Jibbitz 5-Pack Alien Shoe Charms | Jibbi...   \n",
       "\n",
       "                                         description  \n",
       "0  Product Description Premium PU Leather Top qua...  \n",
       "1  Product Description Introducing Playtex 18 hou...  \n",
       "2  Product Description Specification: Material: 3...  \n",
       "3  Product Description Specifications: Item Condi...  \n",
       "4  From the brand Previous page Shop Crocs Collec...  "
      ]
     },
     "execution_count": 8,
     "metadata": {},
     "output_type": "execute_result"
    }
   ],
   "source": [
    "col_cleaned = pd.read_csv(COLLECTION_OUTPUT_PATH, sep='\\t')\n",
    "col_cleaned.head()"
   ]
  },
  {
   "cell_type": "code",
   "execution_count": null,
   "id": "68ca3dd0-78f4-4b2d-9c39-0f69afd8214f",
   "metadata": {},
   "outputs": [],
   "source": []
  },
  {
   "cell_type": "code",
   "execution_count": null,
   "id": "63a0eea3-c255-4e14-8bf5-7db3ac4af887",
   "metadata": {},
   "outputs": [],
   "source": []
  },
  {
   "cell_type": "code",
   "execution_count": null,
   "id": "1d3b5f66-7f72-477c-b97d-54ffd50069c0",
   "metadata": {},
   "outputs": [],
   "source": []
  }
 ],
 "metadata": {
  "kernelspec": {
   "display_name": "Python 3 (ipykernel)",
   "language": "python",
   "name": "python3"
  },
  "language_info": {
   "codemirror_mode": {
    "name": "ipython",
    "version": 3
   },
   "file_extension": ".py",
   "mimetype": "text/x-python",
   "name": "python",
   "nbconvert_exporter": "python",
   "pygments_lexer": "ipython3",
   "version": "3.11.9"
  }
 },
 "nbformat": 4,
 "nbformat_minor": 5
}
