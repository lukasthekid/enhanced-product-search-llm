{
 "cells": [
  {
   "cell_type": "code",
   "execution_count": 5,
   "id": "ec8e619a-b81a-4922-9b6e-1c2d2ae44011",
   "metadata": {},
   "outputs": [
    {
     "name": "stdout",
     "output_type": "stream",
     "text": [
      "/Users/lukasburtscher/Desktop/tuwien/msc/enhanced-product-search-llm/venv/bin/python\n"
     ]
    }
   ],
   "source": [
    "import numpy as np\n",
    "import pandas as pd\n",
    "import sys\n",
    "import json\n",
    "print(sys.executable)\n",
    "# python version 3.11.9\n",
    "\n",
    "COLLECTION_PATH = '../data/train/collection.tsv'\n",
    "COLLECTION_OUTPUT_PATH = '../data/train/p_collection.tsv'\n",
    "COLLECTION_OUTPUT_PATH_SMALL = '../data/train/p_collection_small.tsv'\n",
    "QREL_TRAIN_PATH = '../data/train/QREL/train.qrels'\n",
    "QREL_DEV_PATH = '../data/train/QREL/dev.qrels'\n",
    "PASSAGES_PATH='../data/train/train.jsonl'\n",
    "PASSAGES_OUTPUT_PATH='../data/train/p_train.jsonl'\n",
    "QUERY_PATH = '../data/train/qid2query.tsv'"
   ]
  },
  {
   "cell_type": "code",
   "execution_count": 6,
   "id": "4a5e8dcd-ead6-4c83-801c-8f744c607b89",
   "metadata": {},
   "outputs": [
    {
     "data": {
      "text/html": [
       "<div>\n",
       "<style scoped>\n",
       "    .dataframe tbody tr th:only-of-type {\n",
       "        vertical-align: middle;\n",
       "    }\n",
       "\n",
       "    .dataframe tbody tr th {\n",
       "        vertical-align: top;\n",
       "    }\n",
       "\n",
       "    .dataframe thead th {\n",
       "        text-align: right;\n",
       "    }\n",
       "</style>\n",
       "<table border=\"1\" class=\"dataframe\">\n",
       "  <thead>\n",
       "    <tr style=\"text-align: right;\">\n",
       "      <th></th>\n",
       "      <th>id</th>\n",
       "      <th>title</th>\n",
       "      <th>description</th>\n",
       "    </tr>\n",
       "  </thead>\n",
       "  <tbody>\n",
       "    <tr>\n",
       "      <th>0</th>\n",
       "      <td>1</td>\n",
       "      <td>FYY Leather Case with Mirror for Samsung Galax...</td>\n",
       "      <td>Product Description Premium PU Leather Top qua...</td>\n",
       "    </tr>\n",
       "    <tr>\n",
       "      <th>1</th>\n",
       "      <td>2</td>\n",
       "      <td>Playtex Women's 18 Hour Easy On, Easy Off Fron...</td>\n",
       "      <td>Product Description Introducing Playtex 18 hou...</td>\n",
       "    </tr>\n",
       "    <tr>\n",
       "      <th>2</th>\n",
       "      <td>4</td>\n",
       "      <td>YUEPIN U-Tube Clamp 304 Stainless Steel Hose P...</td>\n",
       "      <td>Product Description Specification: Material: 3...</td>\n",
       "    </tr>\n",
       "    <tr>\n",
       "      <th>3</th>\n",
       "      <td>5</td>\n",
       "      <td>Bruce's Big Storm (Mother Bruce Series)</td>\n",
       "      <td>NaN</td>\n",
       "    </tr>\n",
       "    <tr>\n",
       "      <th>4</th>\n",
       "      <td>6</td>\n",
       "      <td>DJI Shoulder Neck Strap Belt Sling Lanyard Nec...</td>\n",
       "      <td>Product Description Specifications: Item Condi...</td>\n",
       "    </tr>\n",
       "  </tbody>\n",
       "</table>\n",
       "</div>"
      ],
      "text/plain": [
       "   id                                              title  \\\n",
       "0   1  FYY Leather Case with Mirror for Samsung Galax...   \n",
       "1   2  Playtex Women's 18 Hour Easy On, Easy Off Fron...   \n",
       "2   4  YUEPIN U-Tube Clamp 304 Stainless Steel Hose P...   \n",
       "3   5            Bruce's Big Storm (Mother Bruce Series)   \n",
       "4   6  DJI Shoulder Neck Strap Belt Sling Lanyard Nec...   \n",
       "\n",
       "                                         description  \n",
       "0  Product Description Premium PU Leather Top qua...  \n",
       "1  Product Description Introducing Playtex 18 hou...  \n",
       "2  Product Description Specification: Material: 3...  \n",
       "3                                                NaN  \n",
       "4  Product Description Specifications: Item Condi...  "
      ]
     },
     "execution_count": 6,
     "metadata": {},
     "output_type": "execute_result"
    }
   ],
   "source": [
    "collection = pd.read_csv(COLLECTION_PATH, sep='\\t', names=['id', 'title', 'description'], header=None)\n",
    "collection.head()"
   ]
  },
  {
   "cell_type": "code",
   "execution_count": 4,
   "id": "1f733b9f-ecf3-4134-9f9c-5090f09f4202",
   "metadata": {},
   "outputs": [
    {
     "name": "stdout",
     "output_type": "stream",
     "text": [
      "Original Collection\n",
      "(1118640, 3)\n",
      "id                  0\n",
      "title           38556\n",
      "description    222913\n",
      "dtype: int64\n",
      "\n",
      "\n",
      "Cleaned Collection\n",
      "(895727, 3)\n",
      "id              0\n",
      "title          69\n",
      "description     0\n",
      "dtype: int64\n"
     ]
    }
   ],
   "source": [
    "print('Original Collection')\n",
    "print(collection.shape)\n",
    "print(collection.isnull().sum())\n",
    "print('\\n')\n",
    "print('Cleaned Collection')\n",
    "col_cleaned = collection.dropna(subset=['description'])\n",
    "print(col_cleaned.shape)\n",
    "print(col_cleaned.isnull().sum())"
   ]
  },
  {
   "cell_type": "code",
   "execution_count": 4,
   "id": "5c8a1f5f-cb2d-4a78-9cdb-ba404ecae625",
   "metadata": {},
   "outputs": [
    {
     "name": "stdout",
     "output_type": "stream",
     "text": [
      "Filtering complete.\n"
     ]
    }
   ],
   "source": [
    "# load the jsonl file\n",
    "valid_docids = set(col_cleaned['id'])\n",
    "\n",
    "# Function to filter passages\n",
    "def filter_passages(passages, valid_docids):\n",
    "    return [passage for passage in passages if passage['docid'] in valid_docids]\n",
    "\n",
    "\n",
    "with open(PASSAGES_PATH, 'r') as infile, open(PASSAGES_OUTPUT_PATH, 'w') as outfile:\n",
    "    for line in infile:\n",
    "        data = json.loads(line)\n",
    "        data['positive_passages'] = filter_passages(data.get('positive_passages', []), valid_docids)\n",
    "        data['negative_passages'] = filter_passages(data.get('negative_passages', []), valid_docids)\n",
    "        \n",
    "        # Only write the line if there are still positive or negative passages left\n",
    "        if data['positive_passages'] or data['negative_passages']:\n",
    "            outfile.write(json.dumps(data) + '\\n')\n",
    "\n",
    "print(\"Filtering complete.\")\n"
   ]
  },
  {
   "cell_type": "code",
   "execution_count": 11,
   "id": "76c13bdc-ecaf-4aff-a74f-1c8bbc879cf3",
   "metadata": {},
   "outputs": [
    {
     "name": "stdout",
     "output_type": "stream",
     "text": [
      "   qid  0    docid  relevance_score\n",
      "0    2  0   529863                0\n",
      "1    2  0   686755                0\n",
      "2    2  0    20963                3\n",
      "3    2  0  1603474                2\n",
      "4    2  0  1061163                0\n",
      "(169952, 4)\n",
      "(8954, 2)\n"
     ]
    },
    {
     "data": {
      "text/html": [
       "<div>\n",
       "<style scoped>\n",
       "    .dataframe tbody tr th:only-of-type {\n",
       "        vertical-align: middle;\n",
       "    }\n",
       "\n",
       "    .dataframe tbody tr th {\n",
       "        vertical-align: top;\n",
       "    }\n",
       "\n",
       "    .dataframe thead th {\n",
       "        text-align: right;\n",
       "    }\n",
       "</style>\n",
       "<table border=\"1\" class=\"dataframe\">\n",
       "  <thead>\n",
       "    <tr style=\"text-align: right;\">\n",
       "      <th></th>\n",
       "      <th>qid</th>\n",
       "      <th>text</th>\n",
       "    </tr>\n",
       "  </thead>\n",
       "  <tbody>\n",
       "    <tr>\n",
       "      <th>20888</th>\n",
       "      <td>2</td>\n",
       "      <td>!qscreen fence without holes</td>\n",
       "    </tr>\n",
       "    <tr>\n",
       "      <th>20889</th>\n",
       "      <td>12</td>\n",
       "      <td>#1 black natural hair dye without ammonia or p...</td>\n",
       "    </tr>\n",
       "    <tr>\n",
       "      <th>20890</th>\n",
       "      <td>13</td>\n",
       "      <td>#1 rated resveratrol supplement without tea le...</td>\n",
       "    </tr>\n",
       "    <tr>\n",
       "      <th>20891</th>\n",
       "      <td>18</td>\n",
       "      <td>#10 envelopes without security tint</td>\n",
       "    </tr>\n",
       "    <tr>\n",
       "      <th>20892</th>\n",
       "      <td>19</td>\n",
       "      <td>#10 standard no tint no window not self seal</td>\n",
       "    </tr>\n",
       "  </tbody>\n",
       "</table>\n",
       "</div>"
      ],
      "text/plain": [
       "       qid                                               text\n",
       "20888    2                       !qscreen fence without holes\n",
       "20889   12  #1 black natural hair dye without ammonia or p...\n",
       "20890   13  #1 rated resveratrol supplement without tea le...\n",
       "20891   18                #10 envelopes without security tint\n",
       "20892   19       #10 standard no tint no window not self seal"
      ]
     },
     "execution_count": 11,
     "metadata": {},
     "output_type": "execute_result"
    }
   ],
   "source": [
    "# create a validation QREL and query set for hyperparamter tuning\n",
    "qrel = pd.read_csv(QREL_DEV_PATH, sep='\\t', names=['qid', '0', 'docid', 'relevance_score'], header=None)\n",
    "query = pd.read_csv(QUERY_PATH, sep='\\t', names=['qid', 'text'], header=None)\n",
    "# Filter out queries not present in both dataframes\n",
    "common_qids = set(qrel['qid']).intersection(set(query['qid']))\n",
    "qrel = qrel[qrel['qid'].isin(common_qids)]\n",
    "query = query[query['qid'].isin(common_qids)]\n",
    "print(qrel.shape)\n",
    "print(query.shape)\n",
    "\n",
    "# Create a dictionary of qid to query text\n",
    "query_dict = pd.Series(query.text.values, index=query.qid).to_dict()\n",
    "\n",
    "# Prepare the evaluation dataset\n",
    "evaluation_data = []\n",
    "for qid in common_qids:\n",
    "    query_text = query_dict[qid]\n",
    "    relevance_data = qrel[qrel['qid'] == qid]\n",
    "    for _, row in relevance_data.iterrows():\n",
    "        evaluation_data.append((query_text, row['docid'], row['relevance_score']))\n"
   ]
  },
  {
   "cell_type": "code",
   "execution_count": 5,
   "id": "c1b693d9-d31d-4753-baac-19ea0f0b3fc5",
   "metadata": {},
   "outputs": [],
   "source": [
    "col_cleaned.to_csv(COLLECTION_OUTPUT_PATH, sep='\\t', index=False)\n",
    "col_cleaned.head(10000).to_csv(COLLECTION_OUTPUT_PATH_SMALL, sep='\\t', index=False)"
   ]
  },
  {
   "cell_type": "code",
   "execution_count": 6,
   "id": "17d37eff-bc4d-4370-8c56-0473daf7fffa",
   "metadata": {},
   "outputs": [
    {
     "data": {
      "text/html": [
       "<div>\n",
       "<style scoped>\n",
       "    .dataframe tbody tr th:only-of-type {\n",
       "        vertical-align: middle;\n",
       "    }\n",
       "\n",
       "    .dataframe tbody tr th {\n",
       "        vertical-align: top;\n",
       "    }\n",
       "\n",
       "    .dataframe thead th {\n",
       "        text-align: right;\n",
       "    }\n",
       "</style>\n",
       "<table border=\"1\" class=\"dataframe\">\n",
       "  <thead>\n",
       "    <tr style=\"text-align: right;\">\n",
       "      <th></th>\n",
       "      <th>id</th>\n",
       "      <th>title</th>\n",
       "      <th>description</th>\n",
       "    </tr>\n",
       "  </thead>\n",
       "  <tbody>\n",
       "    <tr>\n",
       "      <th>0</th>\n",
       "      <td>1</td>\n",
       "      <td>FYY Leather Case with Mirror for Samsung Galax...</td>\n",
       "      <td>Product Description Premium PU Leather Top qua...</td>\n",
       "    </tr>\n",
       "    <tr>\n",
       "      <th>1</th>\n",
       "      <td>2</td>\n",
       "      <td>Playtex Women's 18 Hour Easy On, Easy Off Fron...</td>\n",
       "      <td>Product Description Introducing Playtex 18 hou...</td>\n",
       "    </tr>\n",
       "    <tr>\n",
       "      <th>2</th>\n",
       "      <td>4</td>\n",
       "      <td>YUEPIN U-Tube Clamp 304 Stainless Steel Hose P...</td>\n",
       "      <td>Product Description Specification: Material: 3...</td>\n",
       "    </tr>\n",
       "    <tr>\n",
       "      <th>3</th>\n",
       "      <td>6</td>\n",
       "      <td>DJI Shoulder Neck Strap Belt Sling Lanyard Nec...</td>\n",
       "      <td>Product Description Specifications: Item Condi...</td>\n",
       "    </tr>\n",
       "    <tr>\n",
       "      <th>4</th>\n",
       "      <td>7</td>\n",
       "      <td>Crocs Jibbitz 5-Pack Alien Shoe Charms | Jibbi...</td>\n",
       "      <td>From the brand Previous page Shop Crocs Collec...</td>\n",
       "    </tr>\n",
       "  </tbody>\n",
       "</table>\n",
       "</div>"
      ],
      "text/plain": [
       "   id                                              title  \\\n",
       "0   1  FYY Leather Case with Mirror for Samsung Galax...   \n",
       "1   2  Playtex Women's 18 Hour Easy On, Easy Off Fron...   \n",
       "2   4  YUEPIN U-Tube Clamp 304 Stainless Steel Hose P...   \n",
       "3   6  DJI Shoulder Neck Strap Belt Sling Lanyard Nec...   \n",
       "4   7  Crocs Jibbitz 5-Pack Alien Shoe Charms | Jibbi...   \n",
       "\n",
       "                                         description  \n",
       "0  Product Description Premium PU Leather Top qua...  \n",
       "1  Product Description Introducing Playtex 18 hou...  \n",
       "2  Product Description Specification: Material: 3...  \n",
       "3  Product Description Specifications: Item Condi...  \n",
       "4  From the brand Previous page Shop Crocs Collec...  "
      ]
     },
     "execution_count": 6,
     "metadata": {},
     "output_type": "execute_result"
    }
   ],
   "source": [
    "col_cleaned = pd.read_csv(COLLECTION_OUTPUT_PATH, sep='\\t')\n",
    "col_cleaned.head()"
   ]
  },
  {
   "cell_type": "code",
   "execution_count": null,
   "id": "68ca3dd0-78f4-4b2d-9c39-0f69afd8214f",
   "metadata": {},
   "outputs": [],
   "source": []
  },
  {
   "cell_type": "code",
   "execution_count": null,
   "id": "63a0eea3-c255-4e14-8bf5-7db3ac4af887",
   "metadata": {},
   "outputs": [],
   "source": []
  },
  {
   "cell_type": "code",
   "execution_count": null,
   "id": "1d3b5f66-7f72-477c-b97d-54ffd50069c0",
   "metadata": {},
   "outputs": [],
   "source": []
  }
 ],
 "metadata": {
  "kernelspec": {
   "display_name": "Python 3 (ipykernel)",
   "language": "python",
   "name": "python3"
  },
  "language_info": {
   "codemirror_mode": {
    "name": "ipython",
    "version": 3
   },
   "file_extension": ".py",
   "mimetype": "text/x-python",
   "name": "python",
   "nbconvert_exporter": "python",
   "pygments_lexer": "ipython3",
   "version": "3.11.9"
  }
 },
 "nbformat": 4,
 "nbformat_minor": 5
}
